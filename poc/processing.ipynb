{
 "cells": [
  {
   "cell_type": "markdown",
   "metadata": {},
   "source": [
    "TODO:\n",
    "1. convert file to PDF if it is not PDF\n",
    "2. take the file and scrap by each page as a markdown table\n",
    "3. Convert with the tool markdown to JSON\n",
    "4. Prepare JSON to publish to gsheet\n",
    "5. Publish to gsheet"
   ]
  },
  {
   "cell_type": "code",
   "execution_count": null,
   "metadata": {},
   "outputs": [],
   "source": [
    "import os\n",
    "from dotenv import load_dotenv\n",
    "\n",
    "# load .env\n",
    "load_dotenv(dotenv_path='../.env')\n",
    "\n",
    "# get API key\n",
    "api_key = os.getenv('ANTHROPIC_API_KEY')\n",
    "\n",
    "print(\"api_key -> \", api_key)"
   ]
  },
  {
   "cell_type": "code",
   "execution_count": null,
   "metadata": {},
   "outputs": [],
   "source": [
    "from anthropic import Anthropic\n",
    "\n",
    "client = Anthropic(api_key=api_key)"
   ]
  },
  {
   "cell_type": "code",
   "execution_count": null,
   "metadata": {},
   "outputs": [],
   "source": [
    "from PyPDF2 import PdfReader, PdfWriter\n",
    "from io import BytesIO\n",
    "import base64\n",
    "from pprint import pp\n",
    "\n",
    "def curr_page_pdf(pdf_path: str, page_num: int) -> str:\n",
    "    reader = PdfReader(pdf_path)\n",
    "    \n",
    "    # Проверяем количество страниц и валидность номера страницы\n",
    "    total_pages = len(reader.pages)\n",
    "    if page_num < 0 or page_num >= total_pages:\n",
    "        raise ValueError(f\"Номер страницы должен быть от 0 до {total_pages-1}\")\n",
    "        \n",
    "    # Создаем новый PDF только с нужной страницей\n",
    "    writer = PdfWriter()\n",
    "    writer.add_page(reader.pages[page_num])\n",
    "    \n",
    "    # Сохраняем в байтовый поток\n",
    "    output = BytesIO()\n",
    "    writer.write(output)\n",
    "    \n",
    "    # Конвертируем в base64\n",
    "    pdf_bytes = output.getvalue()\n",
    "    base64_pdf = base64.b64encode(pdf_bytes).decode('utf-8')\n",
    "    \n",
    "    output.close()\n",
    "    return base64_pdf\n"
   ]
  },
  {
   "cell_type": "code",
   "execution_count": null,
   "metadata": {},
   "outputs": [],
   "source": [
    "def extract_text_from_pdf(pdf_data):\n",
    "    response = client.beta.messages.create(\n",
    "        model=\"claude-3-5-sonnet-20241022\",\n",
    "        betas=[\"pdfs-2024-09-25\"],\n",
    "        max_tokens=8164,\n",
    "        messages=[\n",
    "            {\n",
    "                \"role\": \"user\",\n",
    "                \"content\": [\n",
    "                    {\n",
    "                        \"type\": \"document\",\n",
    "                        \"source\": {\n",
    "                            \"type\": \"base64\",\n",
    "                            \"media_type\": \"application/pdf\",\n",
    "                            \"data\": pdf_data\n",
    "                        }\n",
    "                    },\n",
    "                    {\n",
    "                        \"type\": \"text\",\n",
    "                        \"text\": \"extract text to markdown table\"\n",
    "                    }\n",
    "                ]\n",
    "            }\n",
    "        ],\n",
    "    )\n",
    "    return response"
   ]
  },
  {
   "cell_type": "code",
   "execution_count": null,
   "metadata": {},
   "outputs": [],
   "source": [
    "from pprint import pp\n",
    "\n",
    "pdf_path = \"../documents/SDQp2-4Scoring (1).pdf\"\n",
    "pdf_path = \"../documents/YP-CORE.pdf\"\n",
    "curr_page = curr_page_pdf(pdf_path, 0)\n",
    "text_data = extract_text_from_pdf(curr_page)\n",
    "\n",
    "pp(text_data.content[0].text)"
   ]
  },
  {
   "cell_type": "code",
   "execution_count": null,
   "metadata": {},
   "outputs": [],
   "source": [
    "def markdown_to_json(text_data):\n",
    "    response = client.messages.create(\n",
    "        model=\"claude-3-5-sonnet-20241022\",\n",
    "        max_tokens=1024,\n",
    "        tools=[\n",
    "            {\n",
    "                \"name\": \"markdown-to-json\",\n",
    "                \"description\": \"Convert markdown to JSON\",\n",
    "                \"input_schema\": {\n",
    "                    \"type\": \"object\",\n",
    "                    \"properties\": {\n",
    "                        \"headers\": {\n",
    "                            \"type\": \"array\",\n",
    "                            \"description\": \"Column headers of the table\",\n",
    "                            \"items\": {\n",
    "                                \"type\": \"string\",\n",
    "                            }\n",
    "                        },\n",
    "                        \"values\": {\n",
    "                            \"type\": \"array\",\n",
    "                            \"description\": \"Values of the table\",\n",
    "                            \"items\": {\n",
    "                                \"type\": \"array\",\n",
    "                                \"items\": {\n",
    "                                    \"type\": \"string\",\n",
    "                                }\n",
    "                            }\n",
    "\n",
    "                        }\n",
    "                    },\n",
    "                    \"required\": [\"headers\", \"values\"],\n",
    "                },\n",
    "            }\n",
    "        ],\n",
    "        messages=[{\"role\": \"user\", \"content\": text_data}],\n",
    "    )\n",
    "    return response"
   ]
  },
  {
   "cell_type": "code",
   "execution_count": null,
   "metadata": {},
   "outputs": [],
   "source": [
    "json_data = markdown_to_json(text_data.content[0].text)\n",
    "pp(json_data.content[1].input)"
   ]
  },
  {
   "cell_type": "code",
   "execution_count": null,
   "metadata": {},
   "outputs": [],
   "source": [
    "import gspread\n",
    "import pandas as pd\n",
    "\n",
    "json_data = json_data.content[1].input\n",
    "google_credentials = \"../google_credentials/document-converter-444316-5d64b96b304e.json\"\n",
    "table_name = \"MakeAnImpact_Result\"\n",
    "\n",
    "gc = gspread.service_account(filename=google_credentials)\n",
    "\n",
    "sh = gc.open(table_name)\n",
    "\n",
    "# Open a worksheet from spreadsheet with one shot\n",
    "worksheet = sh.get_worksheet(0)\n",
    "\n",
    "# convert json to DataFrame\n",
    "df = pd.DataFrame(json_data['values'], columns=json_data['headers'])\n",
    "\n",
    "# convert DataFrame to list\n",
    "values = [df.columns.values.tolist()] + df.values.tolist()\n",
    "\n",
    "# clear sheet\n",
    "worksheet.clear()\n",
    "\n",
    "# upload -> Google Sheets\n",
    "worksheet.update(values)\n"
   ]
  }
 ],
 "metadata": {
  "kernelspec": {
   "display_name": ".venv",
   "language": "python",
   "name": "python3"
  },
  "language_info": {
   "codemirror_mode": {
    "name": "ipython",
    "version": 3
   },
   "file_extension": ".py",
   "mimetype": "text/x-python",
   "name": "python",
   "nbconvert_exporter": "python",
   "pygments_lexer": "ipython3",
   "version": "3.9.6"
  }
 },
 "nbformat": 4,
 "nbformat_minor": 2
}
